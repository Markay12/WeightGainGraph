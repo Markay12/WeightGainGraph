{
 "metadata": {
  "language_info": {
   "codemirror_mode": {
    "name": "ipython",
    "version": 3
   },
   "file_extension": ".py",
   "mimetype": "text/x-python",
   "name": "python",
   "nbconvert_exporter": "python",
   "pygments_lexer": "ipython3",
   "version": 3
  },
  "orig_nbformat": 2
 },
 "nbformat": 4,
 "nbformat_minor": 2,
 "cells": [
  {
   "cell_type": "code",
   "execution_count": null,
   "metadata": {},
   "outputs": [],
   "source": [
    "#panda import for data manipulation and frame\n",
    "import pandas as pd\n",
    "from pandas import DataFrame\n",
    "\n",
    "#weight data set import \n",
    "df_weight = pd.read_csv('data/weight.csv',delimeter=',',header='infer')\n",
    "df_weight.head()\n",
    "\n",
    "df_weight\n",
    "\n"
   ]
  }
 ]
}